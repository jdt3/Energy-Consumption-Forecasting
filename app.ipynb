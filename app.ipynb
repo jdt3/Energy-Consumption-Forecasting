{
 "cells": [
  {
   "cell_type": "code",
   "execution_count": 1,
   "id": "a9fc7cd8-fc96-4826-b7de-774f5ee85eb5",
   "metadata": {},
   "outputs": [
    {
     "name": "stdout",
     "output_type": "stream",
     "text": [
      "C:\\Users\\trive\n"
     ]
    }
   ],
   "source": [
    "import os\n",
    "print(os.getcwd())"
   ]
  },
  {
   "cell_type": "code",
   "execution_count": 3,
   "id": "c5d40446-b7f6-4d1a-8888-ef6eef67da88",
   "metadata": {},
   "outputs": [],
   "source": [
    "os.chdir('C:/Users/trive/Dashboard')"
   ]
  },
  {
   "cell_type": "code",
   "execution_count": 5,
   "id": "6c3fe69f-b17b-42ed-905c-a3169183f1a5",
   "metadata": {},
   "outputs": [
    {
     "name": "stdout",
     "output_type": "stream",
     "text": [
      "C:\\Users\\trive\\Dashboard\n"
     ]
    }
   ],
   "source": [
    "print(os.getcwd())"
   ]
  },
  {
   "cell_type": "code",
   "execution_count": 21,
   "id": "5aeaae28-94bc-4999-8901-b963a04667f8",
   "metadata": {},
   "outputs": [
    {
     "name": "stderr",
     "output_type": "stream",
     "text": [
      "ERROR: Invalid requirement: '#': Expected package name at the start of dependency specifier\n",
      "    #\n",
      "    ^\n"
     ]
    },
    {
     "name": "stdout",
     "output_type": "stream",
     "text": [
      "Collecting dash_bootstrap_components\n",
      "  Downloading dash_bootstrap_components-2.0.0-py3-none-any.whl.metadata (18 kB)\n",
      "Collecting dash>=3.0.0 (from dash_bootstrap_components)\n",
      "  Downloading dash-3.0.1-py3-none-any.whl.metadata (10 kB)\n",
      "Requirement already satisfied: Flask<3.1,>=1.0.4 in c:\\users\\trive\\anaconda3\\lib\\site-packages (from dash>=3.0.0->dash_bootstrap_components) (3.0.3)\n",
      "Requirement already satisfied: Werkzeug<3.1 in c:\\users\\trive\\anaconda3\\lib\\site-packages (from dash>=3.0.0->dash_bootstrap_components) (3.0.3)\n",
      "Requirement already satisfied: plotly>=5.0.0 in c:\\users\\trive\\anaconda3\\lib\\site-packages (from dash>=3.0.0->dash_bootstrap_components) (5.24.1)\n",
      "Requirement already satisfied: importlib-metadata in c:\\users\\trive\\anaconda3\\lib\\site-packages (from dash>=3.0.0->dash_bootstrap_components) (7.0.1)\n",
      "Requirement already satisfied: typing-extensions>=4.1.1 in c:\\users\\trive\\anaconda3\\lib\\site-packages (from dash>=3.0.0->dash_bootstrap_components) (4.11.0)\n",
      "Requirement already satisfied: requests in c:\\users\\trive\\anaconda3\\lib\\site-packages (from dash>=3.0.0->dash_bootstrap_components) (2.32.3)\n",
      "Collecting retrying (from dash>=3.0.0->dash_bootstrap_components)\n",
      "  Downloading retrying-1.3.4-py3-none-any.whl.metadata (6.9 kB)\n",
      "Requirement already satisfied: nest-asyncio in c:\\users\\trive\\anaconda3\\lib\\site-packages (from dash>=3.0.0->dash_bootstrap_components) (1.6.0)\n",
      "Requirement already satisfied: setuptools in c:\\users\\trive\\anaconda3\\lib\\site-packages (from dash>=3.0.0->dash_bootstrap_components) (75.1.0)\n",
      "Requirement already satisfied: Jinja2>=3.1.2 in c:\\users\\trive\\anaconda3\\lib\\site-packages (from Flask<3.1,>=1.0.4->dash>=3.0.0->dash_bootstrap_components) (3.1.4)\n",
      "Requirement already satisfied: itsdangerous>=2.1.2 in c:\\users\\trive\\anaconda3\\lib\\site-packages (from Flask<3.1,>=1.0.4->dash>=3.0.0->dash_bootstrap_components) (2.2.0)\n",
      "Requirement already satisfied: click>=8.1.3 in c:\\users\\trive\\anaconda3\\lib\\site-packages (from Flask<3.1,>=1.0.4->dash>=3.0.0->dash_bootstrap_components) (8.1.7)\n",
      "Requirement already satisfied: blinker>=1.6.2 in c:\\users\\trive\\anaconda3\\lib\\site-packages (from Flask<3.1,>=1.0.4->dash>=3.0.0->dash_bootstrap_components) (1.6.2)\n",
      "Requirement already satisfied: tenacity>=6.2.0 in c:\\users\\trive\\anaconda3\\lib\\site-packages (from plotly>=5.0.0->dash>=3.0.0->dash_bootstrap_components) (8.2.3)\n",
      "Requirement already satisfied: packaging in c:\\users\\trive\\anaconda3\\lib\\site-packages (from plotly>=5.0.0->dash>=3.0.0->dash_bootstrap_components) (24.1)\n",
      "Requirement already satisfied: MarkupSafe>=2.1.1 in c:\\users\\trive\\anaconda3\\lib\\site-packages (from Werkzeug<3.1->dash>=3.0.0->dash_bootstrap_components) (2.1.3)\n",
      "Requirement already satisfied: zipp>=0.5 in c:\\users\\trive\\anaconda3\\lib\\site-packages (from importlib-metadata->dash>=3.0.0->dash_bootstrap_components) (3.17.0)\n",
      "Requirement already satisfied: charset-normalizer<4,>=2 in c:\\users\\trive\\anaconda3\\lib\\site-packages (from requests->dash>=3.0.0->dash_bootstrap_components) (3.3.2)\n",
      "Requirement already satisfied: idna<4,>=2.5 in c:\\users\\trive\\anaconda3\\lib\\site-packages (from requests->dash>=3.0.0->dash_bootstrap_components) (3.7)\n",
      "Requirement already satisfied: urllib3<3,>=1.21.1 in c:\\users\\trive\\anaconda3\\lib\\site-packages (from requests->dash>=3.0.0->dash_bootstrap_components) (2.2.3)\n",
      "Requirement already satisfied: certifi>=2017.4.17 in c:\\users\\trive\\anaconda3\\lib\\site-packages (from requests->dash>=3.0.0->dash_bootstrap_components) (2024.8.30)\n",
      "Requirement already satisfied: six>=1.7.0 in c:\\users\\trive\\anaconda3\\lib\\site-packages (from retrying->dash>=3.0.0->dash_bootstrap_components) (1.16.0)\n",
      "Requirement already satisfied: colorama in c:\\users\\trive\\anaconda3\\lib\\site-packages (from click>=8.1.3->Flask<3.1,>=1.0.4->dash>=3.0.0->dash_bootstrap_components) (0.4.6)\n",
      "Downloading dash_bootstrap_components-2.0.0-py3-none-any.whl (202 kB)\n",
      "Downloading dash-3.0.1-py3-none-any.whl (8.0 MB)\n",
      "   ---------------------------------------- 0.0/8.0 MB ? eta -:--:--\n",
      "   ------------------------------------ --- 7.3/8.0 MB 41.2 MB/s eta 0:00:01\n",
      "   ---------------------------------------- 8.0/8.0 MB 37.9 MB/s eta 0:00:00\n",
      "Downloading retrying-1.3.4-py3-none-any.whl (11 kB)\n",
      "Installing collected packages: retrying, dash, dash_bootstrap_components\n",
      "Successfully installed dash-3.0.1 dash_bootstrap_components-2.0.0 retrying-1.3.4\n"
     ]
    }
   ],
   "source": [
    "!pip install dash==2.9.3  # or latest version\n",
    "!pip install dash_bootstrap_components"
   ]
  },
  {
   "cell_type": "code",
   "execution_count": 9,
   "id": "9988d4f3-dc18-4f59-941a-8f0401df9c98",
   "metadata": {},
   "outputs": [],
   "source": [
    "import pandas as pd\n",
    "import numpy as np"
   ]
  },
  {
   "cell_type": "code",
   "execution_count": 11,
   "id": "e85e36c2-4411-487b-8a66-0feed7f1c015",
   "metadata": {},
   "outputs": [],
   "source": [
    "from prophet import Prophet\n",
    "\n",
    "model = Prophet()"
   ]
  },
  {
   "cell_type": "code",
   "execution_count": 23,
   "id": "64296f68-4142-4fa2-b2cb-2931600f6f7f",
   "metadata": {},
   "outputs": [],
   "source": [
    "import dash\n",
    "from dash import dcc, html, Input, Output\n",
    "import plotly.graph_objects as go\n",
    "import dash_bootstrap_components as dbc"
   ]
  },
  {
   "cell_type": "code",
   "execution_count": 25,
   "id": "0b0b71bb-0202-4dd9-b37f-ca29163d7318",
   "metadata": {},
   "outputs": [],
   "source": [
    "# Initialize the Dash app\n",
    "app = dash.Dash(__name__, external_stylesheets=[dbc.themes.BOOTSTRAP])\n",
    "app.title = \"Energy Consumption Forecast\" "
   ]
  },
  {
   "cell_type": "code",
   "execution_count": null,
   "id": "0b4d08da-07b1-4eb1-9ba6-ccad16848ca4",
   "metadata": {},
   "outputs": [],
   "source": [
    "# Load and process data\n",
    "df"
   ]
  }
 ],
 "metadata": {
  "kernelspec": {
   "display_name": "Python 3 (ipykernel)",
   "language": "python",
   "name": "python3"
  },
  "language_info": {
   "codemirror_mode": {
    "name": "ipython",
    "version": 3
   },
   "file_extension": ".py",
   "mimetype": "text/x-python",
   "name": "python",
   "nbconvert_exporter": "python",
   "pygments_lexer": "ipython3",
   "version": "3.12.7"
  }
 },
 "nbformat": 4,
 "nbformat_minor": 5
}
